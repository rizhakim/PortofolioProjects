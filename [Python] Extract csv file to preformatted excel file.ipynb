import pandas as pd
import shutil
from openpyxl import load_workbook

#Input File Copy as Path here
file = r"E:\PC Strand File\Ø 12.7\3B230032-1~6.csv"

#Pre-formatted Excel Location
loc_form = r"E:\PC Strand File"

#Output file location
loc_output =  r"E:\PC Strand File\Ouput"

#Reading file source
df = pd.read_csv(file, header = None, index_col=0 )

#Header
df.columns = df.loc['Name']

coil_no = df.index[1][0:8]

#Drop not so important several rows
df.drop(df.loc['Test Name':'Size Unit:',:].index.tolist(), inplace=True )

#Remove duplicated coil number
df = df.groupby(df.index).last()

#Only select cells that contain required data
df = df[df.index.str.contains(coil_no)]


#Choosing preformatted excel file
if coil_no[0] == '1':
  form_no = 'QUA-FOM-001'
elif coil_no[0] == '3':
  form_no = 'QUA-FOM-003'
elif coil_no[0] == '5':
  form_no = 'QUA-FOM-005'
else:
  print("no source file")

#Copying pre-formatted excel to new pre-formatted excel file
input_form = loc_form + "\\" + form_no + ".xlsx"
output_form = loc_output + "\\" + coil_no + ".xlsx"

shutil.copyfile(input_form, output_form)

#Export dataframe to new formatted exel
book = load_workbook (output_form)


with pd.ExcelWriter(output_form, engine  ='openpyxl', mode='a', if_sheet_exists = 'replace') as writer:
        writer.book = book
        df.to_excel(writer, sheet_name='Sheet1')

book.close()
